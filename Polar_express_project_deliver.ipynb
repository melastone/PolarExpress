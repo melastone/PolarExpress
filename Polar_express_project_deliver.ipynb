{
  "nbformat": 4,
  "nbformat_minor": 0,
  "metadata": {
    "colab": {
      "provenance": [],
      "collapsed_sections": [
        "LWoJdTF9px2Z"
      ]
    },
    "kernelspec": {
      "name": "python3",
      "display_name": "Python 3"
    },
    "language_info": {
      "name": "python"
    },
    "gpuClass": "standard"
  },
  "cells": [
    {
      "cell_type": "markdown",
      "source": [
        "The purpose of the project is to learn the mapping from polar coordinates to a a discrete 10x10 grid of cells in the plane, using a neural network. \n",
        "\n",
        "The supervised dataset is given to you in the form of a generator (to be considered as a black box).\n",
        "\n",
        "The model must achieve an accuracy of 95%, and it will be evaluated in a way **inversely proportional to the number of its parameters: the smaller, the better.**\n",
        "\n",
        "**WARNING**: Any solution taking advantage of meta-knowledge about the generator will be automatically rejected."
      ],
      "metadata": {
        "id": "Zw_326KLT9dF"
      }
    },
    {
      "cell_type": "code",
      "execution_count": 1,
      "metadata": {
        "id": "ynz-4_4cFmbJ"
      },
      "outputs": [],
      "source": [
        "import numpy as np\n",
        "import tensorflow as tf\n",
        "from tensorflow.keras.layers import Input, Dense, Reshape, Concatenate\n",
        "from tensorflow.keras.models import Model"
      ]
    },
    {
      "cell_type": "markdown",
      "source": [
        "Here is the generator. It returns triples of the form ((theta,rho),out) where (theta,rho) are the polar coordinates of a point in the first quadrant of the plane, and out is a 10x10 map with \"1\" in the cell corresponding to the point position, and \"0\" everywhere else.\n",
        "\n",
        "By setting flat=True, the resulting map is flattened into a vector with a single dimension 100. You can use this variant, if you wish. "
      ],
      "metadata": {
        "id": "iA01pkKbUt7Q"
      }
    },
    {
      "cell_type": "code",
      "source": [
        "def polar_generator(batchsize,grid=(10,10),noise=.002,flat=True):\n",
        "  while True:\n",
        "    x = np.random.rand(batchsize)\n",
        "    y = np.random.rand(batchsize)\n",
        "    out = np.zeros((batchsize,grid[0],grid[1]))\n",
        "    xc = (x*grid[0]).astype(int)\n",
        "    yc = (y*grid[1]).astype(int)\n",
        "    for b in range(batchsize):\n",
        "      out[b,xc[b],yc[b]] = 1\n",
        "    #compute rho and theta and add some noise\n",
        "    rho = np.sqrt(x**2+y**2) + np.random.normal(scale=noise)\n",
        "    theta = np.arctan(y/np.maximum(x,.00001)) + np.random.normal(scale=noise)\n",
        "    if flat:\n",
        "      out = np.reshape(out,(batchsize,grid[0]*grid[1]))\n",
        "    yield ((theta,rho),out)"
      ],
      "metadata": {
        "id": "DsA1GqAeWAdo"
      },
      "execution_count": 2,
      "outputs": []
    },
    {
      "cell_type": "markdown",
      "source": [
        "Let's create an instance of the generator on a grid with dimension 3x4"
      ],
      "metadata": {
        "id": "ZF-jlaqAWc2o"
      }
    },
    {
      "cell_type": "code",
      "source": [
        "g1,g2 = 3,4\n",
        "gen = polar_generator(1,grid=(g1,g2),noise=0.0)"
      ],
      "metadata": {
        "id": "Ov3rXaLVHDCT"
      },
      "execution_count": 3,
      "outputs": []
    },
    {
      "cell_type": "markdown",
      "source": [
        "And now let's see a few samples."
      ],
      "metadata": {
        "id": "b4hntQtSWjPk"
      }
    },
    {
      "cell_type": "code",
      "source": [
        "(theta,rho),maps = next(gen)\n",
        "for i,map in enumerate(maps):\n",
        "  #let us compute the cartesian coordinates\n",
        "  x = np.cos(theta[i])*rho[i]\n",
        "  y = np.sin(theta[i])*rho[i]\n",
        "  print(\"x coordinate (row): {}\".format(int(x*g1)))\n",
        "  print(\"y coordinate (col): {}\".format(int(y*g2)))\n",
        "  print(\"map:\")\n",
        "  print(np.reshape(map,(g1,g2)))\n",
        "  #and the polar coordinates\n",
        "  print(\"polar coordinates of this point are:\")\n",
        "  print(theta[i], rho[i])"
      ],
      "metadata": {
        "id": "PM7R8ZZZHN7p",
        "colab": {
          "base_uri": "https://localhost:8080/"
        },
        "outputId": "99fd38f7-c2a1-4f36-9857-651013aaaea5"
      },
      "execution_count": 4,
      "outputs": [
        {
          "output_type": "stream",
          "name": "stdout",
          "text": [
            "x coordinate (row): 0\n",
            "y coordinate (col): 2\n",
            "map:\n",
            "[[0. 0. 1. 0.]\n",
            " [0. 0. 0. 0.]\n",
            " [0. 0. 0. 0.]]\n",
            "polar coordinates of this point are:\n",
            "1.2585603491769635 0.5568679232331946\n"
          ]
        }
      ]
    },
    {
      "cell_type": "markdown",
      "source": [
        "Exercise: add noise to the generator, and check the effect on the \"ground truth\"."
      ],
      "metadata": {
        "id": "NTY5fu8Hg7RE"
      }
    },
    {
      "cell_type": "markdown",
      "source": [
        "# What to deliver\n",
        "\n",
        "For the purposes of the project you are supposed to work with the **default 10x10 grid, and the default noise=.002**\n",
        "\n",
        "The generator must be treatead as a black box, do not tweak it, and do not exploit its semantics that is supposed to be unknown. You are allowed to work with the \"flat\" modality, if you prefer so.\n",
        "\n",
        "You need to:\n",
        "1.   define an accuracy function (take inspiration from the code of the previous cell)\n",
        "2.   define a neural network taking in input theta and rho, and returning out\n",
        "3. measure the network's accuracy that must be above 95% (accuracy must be evaluated over at least 20000 samples)\n",
        "4. tune the network trying to decrease as much as possible the numer of parameters, preserving an accuracy above 95%. Only your best network must be delivered.\n",
        "\n",
        "You must deliver a SINGLE notebook working on colab, containing the code of the network, its summary, the training history, the code for the accurary metric and its evaluation on the network.\n",
        "\n",
        "**N.B.** The accuracy must be above 95% but apart from that it does not influence the evaluation. You score will only depend on the number of parameters: the lower, the better.\n",
        "\n",
        "#Good work!\n",
        "\n",
        "\n",
        "\n"
      ],
      "metadata": {
        "id": "jj4akvA24maJ"
      }
    },
    {
      "cell_type": "markdown",
      "source": [
        "#Delivery"
      ],
      "metadata": {
        "id": "Qae77XDBpZa6"
      }
    },
    {
      "cell_type": "markdown",
      "source": [
        "##Exercise"
      ],
      "metadata": {
        "id": "LWoJdTF9px2Z"
      }
    },
    {
      "cell_type": "markdown",
      "source": [
        "Let's first solve the firs exercise: adding noise to the generator, then compare the result with \"ground truth\"."
      ],
      "metadata": {
        "id": "KU2gDgCjpd_m"
      }
    },
    {
      "cell_type": "code",
      "source": [
        "noise_generator = polar_generator(1,grid=(g1,g2),noise=0.002)\n",
        "(n_theta,n_rho),n_maps = next(noise_generator)\n",
        "print((n_theta,n_rho),n_maps)\n",
        "print()\n",
        "\n",
        "# now let's compute the cartesian coordinates from \n",
        "# the polar ones given from the noised generator\n",
        "x = np.cos(n_theta[0])*n_rho[0]\n",
        "y = np.sin(n_theta[0])*n_rho[0]\n",
        "print(\"cartesian coordinates for theta: {} and rho: {} are\".format(n_theta[0],n_rho[0]))\n",
        "print(\"x: {} and y: {}\".format(int(x*g1),int(y*g2)))\n",
        "print()\n",
        "\n",
        "# compute the polar coordinates from the cartesian ones\n",
        "# given from the noised generator\n",
        "for map in n_maps:\n",
        "  for i,el in enumerate(map):\n",
        "    if int(el) == 1:\n",
        "      pos = i\n",
        "xc = int(pos/4)\n",
        "yc = int(pos%4)\n",
        "x = x/g1\n",
        "y = y/g2\n",
        "theta_i = np.arctan(y/np.maximum(x,.00001))\n",
        "rho_i = np.sqrt(x**2+y**2)\n",
        "print(\"polar coordinates for x: {} and y: {} are\".format(xc,yc))\n",
        "print(\"theta: {} and rho: {}\".format(theta_i,rho_i))"
      ],
      "metadata": {
        "id": "0yX4_cENvfXZ",
        "colab": {
          "base_uri": "https://localhost:8080/"
        },
        "outputId": "4c284927-c62e-4fc5-d2b6-70b4578357b8"
      },
      "execution_count": 5,
      "outputs": [
        {
          "output_type": "stream",
          "name": "stdout",
          "text": [
            "(array([0.69448818]), array([1.09230336])) [[0. 0. 0. 0. 0. 0. 0. 0. 0. 0. 1. 0.]]\n",
            "\n",
            "cartesian coordinates for theta: 0.6944881788200966 and rho: 1.0923033617131261 are\n",
            "x: 2 and y: 2\n",
            "\n",
            "polar coordinates for x: 2 and y: 2 are\n",
            "theta: 0.558370776919886 and rho: 0.32986925350225643\n"
          ]
        }
      ]
    },
    {
      "cell_type": "markdown",
      "source": [
        "We can observe that when adding noise to the generator, values for both theta and rho are slighlty different from the one we actually get if computing angle and radius given cartesian coordinates."
      ],
      "metadata": {
        "id": "rLd9Za2gvdEH"
      }
    },
    {
      "cell_type": "markdown",
      "source": [
        "##Accuracy function"
      ],
      "metadata": {
        "id": "rDlCIaD9p0sV"
      }
    },
    {
      "cell_type": "markdown",
      "source": [
        "First we set our global parameters, then we define the accuracy function."
      ],
      "metadata": {
        "id": "gOPvGHMx6RrM"
      }
    },
    {
      "cell_type": "code",
      "source": [
        "# set dimension of the grid where to map polar coordinates\n",
        "g1,g2 = 10,10\n",
        "\n",
        "# set numnber of both training and testing samples\n",
        "training_samples = 5000\n",
        "testing_samples = 20000\n",
        "\n",
        "def accuracy(model, samples_no, generator):\n",
        "\n",
        "  # generate our samples\n",
        "  (thetas, rhos), true_output = next(generator(samples_no))\n",
        "\n",
        "  # map to grid by using the model\n",
        "  predicted_output = model.predict([np.array(thetas), np.array(rhos)])\n",
        "\n",
        "  score = 0\n",
        "  for i in range(samples_no):\n",
        "\n",
        "    # calculate cartesian coordinates from input data\n",
        "    x = np.cos(thetas[i])*rhos[i]\n",
        "    y = np.sin(thetas[i])*rhos[i]\n",
        "    xc1 = int(x*g1)\n",
        "    yc1 = int(y*g2)\n",
        "\n",
        "    # get cartesian coordinates from predicted data\n",
        "    pos = predicted_output[i].argmax()\n",
        "    xc2 = int(pos/g1)\n",
        "    yc2 = int(pos%g2)\n",
        "    if (xc1 == xc2) and (yc1 == yc2):\n",
        "      score += 1\n",
        "  #print(\"accuracy given by model.evaluate() is: {}\".format(model.evaluate([thetas, rhos], true_output)))\n",
        "  yield (score/samples_no)"
      ],
      "metadata": {
        "id": "R20amZG9Nxs-"
      },
      "execution_count": 6,
      "outputs": []
    },
    {
      "cell_type": "markdown",
      "source": [
        "##Neural Network"
      ],
      "metadata": {
        "id": "17E3zexXqP88"
      }
    },
    {
      "cell_type": "markdown",
      "source": [
        "Let's define the network. The idea behind it is to divide the first quadrant of the cartesian plane in sub-qadrants, verifying, depending on theta and rho values, where to discriminate the point position."
      ],
      "metadata": {
        "id": "pH0HQOpKqhom"
      }
    },
    {
      "cell_type": "code",
      "source": [
        "# input layers, one for theta and one for rho\n",
        "x1in = Input(shape=(1,))\n",
        "x2in = Input(shape=(1,))\n",
        "\n",
        "xin = Concatenate(axis=1)([x1in, x2in])\n",
        "\n",
        "# dense layers that mimic sub-quadrants of the first cartesian quadrant\n",
        "x1 = Dense(1, activation='relu')(xin)\n",
        "x2 = Dense(1, activation='relu')(xin)\n",
        "x3 = Dense(1, activation='relu')(xin)\n",
        "x4 = Dense(1, activation='relu')(xin)\n",
        "x5 = Dense(1, activation='relu')(xin)\n",
        "\n",
        "y = Concatenate(axis=1)([x1,x2,x3,x4,x5])\n",
        "\n",
        "z = Dense(20,activation='relu')(y)\n",
        "\n",
        "mylayer = Dense(100,activation='softmax')(z)\n",
        "\n",
        "mynet = Model(inputs=[x1in,x2in],outputs=mylayer)\n",
        "mynet.summary()"
      ],
      "metadata": {
        "id": "TCSpWvJGqUJd",
        "colab": {
          "base_uri": "https://localhost:8080/"
        },
        "outputId": "dc79f485-5af6-40a2-d1c0-98f61c6db031"
      },
      "execution_count": 7,
      "outputs": [
        {
          "output_type": "stream",
          "name": "stdout",
          "text": [
            "Model: \"model\"\n",
            "__________________________________________________________________________________________________\n",
            " Layer (type)                   Output Shape         Param #     Connected to                     \n",
            "==================================================================================================\n",
            " input_1 (InputLayer)           [(None, 1)]          0           []                               \n",
            "                                                                                                  \n",
            " input_2 (InputLayer)           [(None, 1)]          0           []                               \n",
            "                                                                                                  \n",
            " concatenate (Concatenate)      (None, 2)            0           ['input_1[0][0]',                \n",
            "                                                                  'input_2[0][0]']                \n",
            "                                                                                                  \n",
            " dense (Dense)                  (None, 1)            3           ['concatenate[0][0]']            \n",
            "                                                                                                  \n",
            " dense_1 (Dense)                (None, 1)            3           ['concatenate[0][0]']            \n",
            "                                                                                                  \n",
            " dense_2 (Dense)                (None, 1)            3           ['concatenate[0][0]']            \n",
            "                                                                                                  \n",
            " dense_3 (Dense)                (None, 1)            3           ['concatenate[0][0]']            \n",
            "                                                                                                  \n",
            " dense_4 (Dense)                (None, 1)            3           ['concatenate[0][0]']            \n",
            "                                                                                                  \n",
            " concatenate_1 (Concatenate)    (None, 5)            0           ['dense[0][0]',                  \n",
            "                                                                  'dense_1[0][0]',                \n",
            "                                                                  'dense_2[0][0]',                \n",
            "                                                                  'dense_3[0][0]',                \n",
            "                                                                  'dense_4[0][0]']                \n",
            "                                                                                                  \n",
            " dense_5 (Dense)                (None, 20)           120         ['concatenate_1[0][0]']          \n",
            "                                                                                                  \n",
            " dense_6 (Dense)                (None, 100)          2100        ['dense_5[0][0]']                \n",
            "                                                                                                  \n",
            "==================================================================================================\n",
            "Total params: 2,235\n",
            "Trainable params: 2,235\n",
            "Non-trainable params: 0\n",
            "__________________________________________________________________________________________________\n"
          ]
        }
      ]
    },
    {
      "cell_type": "markdown",
      "source": [
        "It is time to train the network."
      ],
      "metadata": {
        "id": "yq6z893GIoEU"
      }
    },
    {
      "cell_type": "code",
      "source": [
        "mynet.compile(optimizer='adam',loss='categorical_crossentropy',metrics=['accuracy'])\n",
        "\n",
        "mynet.fit(polar_generator(training_samples), steps_per_epoch=1000, epochs=20)"
      ],
      "metadata": {
        "id": "lxctzpDXrEdK",
        "colab": {
          "base_uri": "https://localhost:8080/"
        },
        "outputId": "0f464af2-6b19-43ec-8b61-68d1fe028f8c"
      },
      "execution_count": 8,
      "outputs": [
        {
          "output_type": "stream",
          "name": "stdout",
          "text": [
            "Epoch 1/20\n",
            "1000/1000 [==============================] - 29s 23ms/step - loss: 3.0182 - accuracy: 0.3175\n",
            "Epoch 2/20\n",
            "1000/1000 [==============================] - 19s 19ms/step - loss: 1.3073 - accuracy: 0.8005\n",
            "Epoch 3/20\n",
            "1000/1000 [==============================] - 19s 19ms/step - loss: 0.8245 - accuracy: 0.8564\n",
            "Epoch 4/20\n",
            "1000/1000 [==============================] - 20s 20ms/step - loss: 0.6234 - accuracy: 0.8721\n",
            "Epoch 5/20\n",
            "1000/1000 [==============================] - 20s 20ms/step - loss: 0.5152 - accuracy: 0.8825\n",
            "Epoch 6/20\n",
            "1000/1000 [==============================] - 19s 19ms/step - loss: 0.4468 - accuracy: 0.8905\n",
            "Epoch 7/20\n",
            "1000/1000 [==============================] - 19s 19ms/step - loss: 0.4007 - accuracy: 0.8967\n",
            "Epoch 8/20\n",
            "1000/1000 [==============================] - 19s 19ms/step - loss: 0.3665 - accuracy: 0.9024\n",
            "Epoch 9/20\n",
            "1000/1000 [==============================] - 19s 19ms/step - loss: 0.3394 - accuracy: 0.9082\n",
            "Epoch 10/20\n",
            "1000/1000 [==============================] - 20s 20ms/step - loss: 0.3174 - accuracy: 0.9135\n",
            "Epoch 11/20\n",
            "1000/1000 [==============================] - 20s 20ms/step - loss: 0.2985 - accuracy: 0.9187\n",
            "Epoch 12/20\n",
            "1000/1000 [==============================] - 19s 19ms/step - loss: 0.2833 - accuracy: 0.9222\n",
            "Epoch 13/20\n",
            "1000/1000 [==============================] - 21s 21ms/step - loss: 0.2694 - accuracy: 0.9265\n",
            "Epoch 14/20\n",
            "1000/1000 [==============================] - 19s 19ms/step - loss: 0.2577 - accuracy: 0.9297\n",
            "Epoch 15/20\n",
            "1000/1000 [==============================] - 21s 21ms/step - loss: 0.2477 - accuracy: 0.9324\n",
            "Epoch 16/20\n",
            "1000/1000 [==============================] - 20s 20ms/step - loss: 0.2381 - accuracy: 0.9355\n",
            "Epoch 17/20\n",
            "1000/1000 [==============================] - 21s 21ms/step - loss: 0.2306 - accuracy: 0.9371\n",
            "Epoch 18/20\n",
            "1000/1000 [==============================] - 20s 20ms/step - loss: 0.2228 - accuracy: 0.9396\n",
            "Epoch 19/20\n",
            "1000/1000 [==============================] - 21s 21ms/step - loss: 0.2163 - accuracy: 0.9416\n",
            "Epoch 20/20\n",
            "1000/1000 [==============================] - 20s 20ms/step - loss: 0.2110 - accuracy: 0.9425\n"
          ]
        },
        {
          "output_type": "execute_result",
          "data": {
            "text/plain": [
              "<keras.callbacks.History at 0x7f9c0c22d910>"
            ]
          },
          "metadata": {},
          "execution_count": 8
        }
      ]
    },
    {
      "cell_type": "markdown",
      "source": [
        "Now we measure our model accuracy"
      ],
      "metadata": {
        "id": "GrUEKLTj5NKq"
      }
    },
    {
      "cell_type": "code",
      "source": [
        "print(next(accuracy(mynet, testing_samples, polar_generator)))"
      ],
      "metadata": {
        "id": "S-HaCNXR0f54",
        "colab": {
          "base_uri": "https://localhost:8080/"
        },
        "outputId": "ce5e6910-8103-4d91-955d-93ff3559fddb"
      },
      "execution_count": 9,
      "outputs": [
        {
          "output_type": "stream",
          "name": "stdout",
          "text": [
            "625/625 [==============================] - 1s 2ms/step\n",
            "0.9479\n"
          ]
        }
      ]
    }
  ]
}